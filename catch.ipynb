{
 "cells": [
  {
   "cell_type": "code",
   "execution_count": 1,
   "metadata": {},
   "outputs": [],
   "source": [
    "import geocoder\n",
    "import pandas as pd\n",
    "import codecs"
   ]
  },
  {
   "cell_type": "code",
   "execution_count": 2,
   "metadata": {},
   "outputs": [
    {
     "name": "stdout",
     "output_type": "stream",
     "text": [
      "           年    漁港 都道府県      地域       項目 上場水揚量幅  上場水揚量    価格  合計or個別\n",
      "0       2016    鞆浦   徳島  太平洋南区計  あかいか（生）      0      -    -        0\n",
      "1       2017    鞆浦   徳島  太平洋南区計  あかいか（生）      0      -     0       0\n",
      "2       2018    鞆浦   徳島  太平洋南区計  あかいか（生）      0      -     0       0\n",
      "3       2019    鞆浦   徳島  太平洋南区計  あかいか（生）      0      -     0       0\n",
      "4       2016    亘理   宮城  太平洋北区計  あかいか（生）      0      -    -        0\n",
      "...      ...   ...  ...     ...      ...    ...     ...  ...     ...\n",
      "270148  2011  おいらせ   青森  太平洋北区計     冷凍品計      0      -    -        1\n",
      "270149  2012  おいらせ   青森  太平洋北区計     冷凍品計      0      -    -        1\n",
      "270150  2013  おいらせ   青森  太平洋北区計     冷凍品計      0      -    -        1\n",
      "270151  2014  おいらせ   青森  太平洋北区計     冷凍品計      0      -    -        1\n",
      "270152  2015  おいらせ   青森  太平洋北区計     冷凍品計      0      -    -        1\n",
      "\n",
      "[270153 rows x 9 columns]\n"
     ]
    },
    {
     "name": "stderr",
     "output_type": "stream",
     "text": [
      "/opt/conda/lib/python3.7/site-packages/IPython/core/interactiveshell.py:3058: DtypeWarning: Columns (5) have mixed types. Specify dtype option on import or set low_memory=False.\n",
      "  interactivity=interactivity, compiler=compiler, result=result)\n"
     ]
    }
   ],
   "source": [
    "with codecs.open(\"./catch_data.csv\", \"r\", \"Shift-JIS\", \"ignore\") as file:\n",
    "    df = pd.read_table(file, delimiter=\",\")\n",
    "    print(df)"
   ]
  },
  {
   "cell_type": "code",
   "execution_count": 3,
   "metadata": {},
   "outputs": [],
   "source": [
    "from typing import NewType, Optional, Tuple, List\n",
    "\n",
    "Lat = NewType('Lat', str)\n",
    "Lng = NewType('Lng', str)\n",
    "LatLng = Tuple[Lat, Lng]\n",
    "\n",
    "def getLatLng(place_name: str) -> LatLng or None:\n",
    "    try:\n",
    "        ret = geocoder.osm(place_name, timeout=5.0)\n",
    "        latlng = (ret.latlng[0], ret.latlng[1])\n",
    "        return latlng\n",
    "    except:\n",
    "        return None"
   ]
  },
  {
   "cell_type": "code",
   "execution_count": null,
   "metadata": {},
   "outputs": [],
   "source": [
    "df[\"LatLng\"] = df[\"漁港\"].map(getLatLng)"
   ]
  },
  {
   "cell_type": "code",
   "execution_count": null,
   "metadata": {},
   "outputs": [],
   "source": [
    "df.to_csv(\"./catch_with_latlng.csv\")"
   ]
  },
  {
   "cell_type": "code",
   "execution_count": null,
   "metadata": {},
   "outputs": [],
   "source": [
    "!pip install cartopy"
   ]
  },
  {
   "cell_type": "code",
   "execution_count": null,
   "metadata": {},
   "outputs": [],
   "source": [
    "import matplotlib.pyplot as plt\n",
    "import cartopy.crs as ccrs\n",
    "import cartopy.io.shapereader as shpreader\n",
    "import matplotlib.pyplot as plt\n",
    "import itertools"
   ]
  },
  {
   "cell_type": "code",
   "execution_count": null,
   "metadata": {},
   "outputs": [],
   "source": [
    "df = pd.read_csv('./catch_with_latlng.csv')"
   ]
  },
  {
   "cell_type": "code",
   "execution_count": null,
   "metadata": {},
   "outputs": [],
   "source": [
    "import typing\n",
    "import matplotlib.pyplot as plt\n",
    "import matplotlib.animation as animation\n",
    "from operator import add\n",
    "\n",
    "max_marker_size = 20\n",
    "\n",
    "def toTuple(string: str) -> typing.Tuple[float, float]:\n",
    "    return tuple(map(float, string.strip(\"(\").strip(\")\").split(', '))) \n",
    "\n",
    "def drawCircle(lat: float, lng: float, value: float) -> None:\n",
    "    ax.plot(lng, lat, 'o', transform=ccrs.PlateCarree(),markersize=value, color = (1, 0, 0, 0.8))\n",
    "    \n",
    "def removeWhiteSpace(string: str) -> str:\n",
    "    return string.replace(\" \", \"\").strip(\"　\")\n",
    "\n",
    "def checkError(r, year):\n",
    "    error = []\n",
    "    isError = False\n",
    "    \n",
    "    if r[\"LatLng\"] == \"\":\n",
    "        error.append(\"No LatLng Data\")\n",
    "        isError = True\n",
    "    try:\n",
    "        latlng = toTuple(r[\"LatLng\"])\n",
    "    except:\n",
    "        error.append(\"LatLng cannot convert to Tuple Type\")\n",
    "        isError = True\n",
    "    if r[\" 上場水揚量 \"] == \"- \" or r[\" 上場水揚量 \"] == \"-\":\n",
    "        error.append(\"No Catch Data\")\n",
    "        isError = True\n",
    "    if r[\"年\"] != year:\n",
    "        error.append(\"This is not target year\")\n",
    "        isError = True\n",
    "    return (error, isError)\n",
    "\n",
    "def initializeMatplotArea(fig):\n",
    "    ax = fig.add_subplot(1, 1, 1, projection=ccrs.PlateCarree(central_longitude=180))\n",
    "    ax.coastlines(resolution=\"10m\")\n",
    "    ax.set_extent([150, 125, 50, 25], ccrs.PlateCarree())\n",
    "    return ax\n",
    "\n",
    "def drawAll(fig, draw_list, max_catch_size, year):\n",
    "    ax = initializeMatplotArea(fig)\n",
    "    \n",
    "    ax.text(0.1, 0.9, year, ha='center', va='center', transform=ax.transAxes, fontsize=12)\n",
    "    \n",
    "    for draw_content in draw_list:\n",
    "        latlng = draw_content[\"latlng\"]\n",
    "        catch_size = draw_content[\"catch_size\"]\n",
    "        ax.plot(latlng[1], latlng[0], 'o', transform=ccrs.PlateCarree(),markersize=(catch_size / max_catch_size) * max_marker_size , color = (1, 0, 0, 0.3))"
   ]
  },
  {
   "cell_type": "code",
   "execution_count": null,
   "metadata": {},
   "outputs": [],
   "source": [
    "def gallery(array, ncols=3):\n",
    "    nindex, height, width, intensity = array.shape\n",
    "    nrows = nindex//ncols\n",
    "    result = (array.reshape(nrows, ncols, height, width, intensity)\n",
    "              .swapaxes(1,2)\n",
    "              .reshape(height*nrows, width*ncols, intensity))\n",
    "    return result\n",
    "\n",
    "def create_gallery(contentList):\n",
    "    images = []\n",
    "    files = sorted(glob.glob(f'./output/{contentList[0]}/*.png'))  \n",
    "    yearList = list(map(lambda files: files.split(\"/\")[-1].split(\".\")[0], files))\n",
    "    for year in yearList:\n",
    "        images = []\n",
    "        for content in contentList:\n",
    "            images.append(np.asarray(Image.open(f'./output/{content}/{year}.png').convert('RGB')))\n",
    "        array = np.array(images)\n",
    "        result = gallery(array, 3)\n",
    "        im = Image.fromarray(result)\n",
    "        im.save(f\"./gallery/{year}.jpg\")\n",
    "\n",
    "    files = sorted(glob.glob(f'./gallery/*.jpg'))  \n",
    "\n",
    "    images = list(map(lambda file : Image.open(file) , files))\n",
    "    images[0].save(f'./gallery/output.gif' , save_all = True , append_images = images[1:] , duration = 1000 , loop = 0)"
   ]
  },
  {
   "cell_type": "code",
   "execution_count": null,
   "metadata": {},
   "outputs": [],
   "source": [
    "create_gallery([\"かつお（生）\", \"かつお（冷）\" , \"まぐろ（生）\", \"まぐろ（冷）\", \"ほっけ（生）\", \"さんま\", \"あまだい\", \"かき（むき身）\", \"かき（殻付）\", \"まいわし\", \"まあじ\", \"べにずわいがに\"])"
   ]
  }
 ],
 "metadata": {
  "kernelspec": {
   "display_name": "Python 3",
   "language": "python",
   "name": "python3"
  },
  "language_info": {
   "codemirror_mode": {
    "name": "ipython",
    "version": 3
   },
   "file_extension": ".py",
   "mimetype": "text/x-python",
   "name": "python",
   "nbconvert_exporter": "python",
   "pygments_lexer": "ipython3",
   "version": "3.7.3"
  }
 },
 "nbformat": 4,
 "nbformat_minor": 4
}
